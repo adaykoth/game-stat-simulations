{
 "cells": [
  {
   "metadata": {},
   "cell_type": "code",
   "source": [
    "from stattests.generation import generate_data\n",
    "from stattests.tests import t_test, log_t_test, mannwhitney, cuped_t_test, whale_filtered_t_test, whale_filtered_log_t_test, cuped_log_t_test, bootstrap_p_values\n",
    "from stattests.utils import plot_summary\n",
    "import seaborn as sns\n",
    "\n",
    "colors = sns.color_palette(\"deep\")"
   ],
   "id": "initial_id",
   "outputs": [],
   "execution_count": null
  },
  {
   "metadata": {},
   "cell_type": "code",
   "source": [
    "# Generate the data\n",
    "(purchases_a, revenue_a), (purchases_b, revenue_b) = generate_data(N=2500, NN=1500, uplift_purchase_rate=.15, uplift_purchase_amount=0)\n",
    "# aa test dataset\n",
    "(purchases_a0, revenue_a0), (purchases_a1, revenue_a1) = generate_data(N=2500, NN=1500, uplift_purchase_rate=0)"
   ],
   "id": "d133cadb5ca964f3",
   "outputs": [],
   "execution_count": null
  },
  {
   "metadata": {},
   "cell_type": "code",
   "source": [
    "\n",
    "results = {\n",
    "    't-test' : (t_test(revenue_a, revenue_b), t_test(revenue_a0, revenue_a1), colors[0]),\n",
    "    'log-t-test' : (log_t_test(revenue_a, revenue_b), log_t_test(revenue_a0, revenue_a1), colors[1]),\n",
    "    'whale-filtered-t-test' : (whale_filtered_t_test(revenue_a, revenue_b), t_test(revenue_a0, revenue_a1), colors[2]),\n",
    "    'whale-filtered-log-t-test' : (whale_filtered_log_t_test(revenue_a, revenue_b), log_t_test(revenue_a0, revenue_a1), colors[3]),\n",
    "    'cuped-t-test' : (cuped_t_test(revenue_a, revenue_b, revenue_a0, revenue_a1), t_test(revenue_a0, revenue_a1), colors[4]),\n",
    "    'cuped-log-t-test' : (cuped_log_t_test(revenue_a, revenue_b, revenue_a0, revenue_a1), log_t_test(revenue_a0, revenue_a1), colors[5]),\n",
    "    'mann-whitney' : (mannwhitney(revenue_a, revenue_b), mannwhitney(revenue_a0, revenue_a1), colors[6]),\n",
    "    'bootstrap' : (bootstrap_p_values(revenue_a, revenue_b), bootstrap_p_values(revenue_a0, revenue_a1), colors[7]),\n",
    "\n",
    "}\n",
    "\n",
    "purchases_a_mean = revenue_a.mean()\n",
    "purchases_b_mean = revenue_b.mean()"
   ],
   "id": "267cf0833884f04e",
   "outputs": [],
   "execution_count": null
  },
  {
   "metadata": {},
   "cell_type": "code",
   "source": "plot_summary(results, purchases_a0, revenue_a0, purchases_a_mean, purchases_b_mean)",
   "id": "bf0a37e494d5a275",
   "outputs": [],
   "execution_count": null
  },
  {
   "metadata": {},
   "cell_type": "code",
   "source": "",
   "id": "3d2f9d71f26bcd7b",
   "outputs": [],
   "execution_count": null
  }
 ],
 "metadata": {
  "kernelspec": {
   "display_name": "Python 3",
   "language": "python",
   "name": "python3"
  },
  "language_info": {
   "codemirror_mode": {
    "name": "ipython",
    "version": 2
   },
   "file_extension": ".py",
   "mimetype": "text/x-python",
   "name": "python",
   "nbconvert_exporter": "python",
   "pygments_lexer": "ipython2",
   "version": "2.7.6"
  }
 },
 "nbformat": 4,
 "nbformat_minor": 5
}
